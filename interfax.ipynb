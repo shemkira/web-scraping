{
 "cells": [
  {
   "cell_type": "code",
   "execution_count": 1,
   "id": "f01e30a9",
   "metadata": {},
   "outputs": [],
   "source": [
    "import pandas as pd\n",
    "import requests\n",
    "from datetime import datetime\n",
    "import re\n",
    "from bs4 import BeautifulSoup\n",
    "from fake_useragent import UserAgent\n",
    "import time\n",
    "import numpy as np\n",
    "from iteration_utilities import flatten\n",
    "from tqdm import tqdm"
   ]
  },
  {
   "cell_type": "code",
   "execution_count": 2,
   "id": "d1e34d73",
   "metadata": {},
   "outputs": [],
   "source": [
    "dates=pd.date_range('2013-01-01',periods=3388,freq='D')\n",
    "dates=list(map(lambda x: str(x).split(' ')[0],dates))\n",
    "dates=list(map(lambda x: x.split('-'),dates))\n",
    "dates=list(map(lambda x: \"/\".join(x),dates))\n"
   ]
  },
  {
   "cell_type": "code",
   "execution_count": 4,
   "id": "1df795df",
   "metadata": {},
   "outputs": [],
   "source": [
    "hrefs=pd.read_excel('h.xlsx')[0]\n",
    "hrefs=hrefs.to_list()\n",
    "indices=[]\n",
    "for i in hrefs:\n",
    "    if 'www' in i:\n",
    "        indices.append(hrefs.index(i))\n",
    "hrefs_new=[]\n",
    "for h in hrefs:\n",
    "    if hrefs.index(h) not in indices:\n",
    "        hrefs_new.append(h)"
   ]
  },
  {
   "cell_type": "code",
   "execution_count": 48,
   "id": "ef168733",
   "metadata": {},
   "outputs": [
    {
     "data": {
      "text/plain": [
       "DatetimeIndex(['2013-01-01', '2013-01-02', '2013-01-03', '2013-01-04',\n",
       "               '2013-01-05', '2013-01-06', '2013-01-07', '2013-01-08',\n",
       "               '2013-01-09', '2013-01-10',\n",
       "               ...\n",
       "               '2022-04-02', '2022-04-03', '2022-04-04', '2022-04-05',\n",
       "               '2022-04-06', '2022-04-07', '2022-04-08', '2022-04-09',\n",
       "               '2022-04-10', '2022-04-11'],\n",
       "              dtype='datetime64[ns]', length=3388, freq='D')"
      ]
     },
     "execution_count": 48,
     "metadata": {},
     "output_type": "execute_result"
    }
   ],
   "source": [
    "pd.date_range('2013-01-01',periods=3388,freq='D')"
   ]
  },
  {
   "cell_type": "code",
   "execution_count": 14,
   "id": "717a9e9a",
   "metadata": {},
   "outputs": [],
   "source": [
    "news=[]\n",
    "dates_news=[]\n",
    "headers=[]"
   ]
  },
  {
   "cell_type": "code",
   "execution_count": 5,
   "id": "68c92774",
   "metadata": {},
   "outputs": [
    {
     "data": {
      "text/plain": [
       "[]"
      ]
     },
     "execution_count": 5,
     "metadata": {},
     "output_type": "execute_result"
    }
   ],
   "source": [
    "hrefs"
   ]
  },
  {
   "cell_type": "code",
   "execution_count": 64,
   "id": "d1fda0c5",
   "metadata": {},
   "outputs": [
    {
     "data": {
      "text/plain": [
       "[]"
      ]
     },
     "execution_count": 64,
     "metadata": {},
     "output_type": "execute_result"
    }
   ],
   "source": [
    "dates_news"
   ]
  },
  {
   "cell_type": "code",
   "execution_count": 6,
   "id": "1549cbc2",
   "metadata": {},
   "outputs": [
    {
     "name": "stderr",
     "output_type": "stream",
     "text": [
      "100%|██████████| 3388/3388 [53:27<00:00,  1.06it/s] \n"
     ]
    }
   ],
   "source": [
    "from tqdm import tqdm\n",
    "for i in tqdm(dates):\n",
    "    time.sleep(np.random.uniform(0,1.5))\n",
    "    \n",
    "    url=\"https://www.interfax.ru/business/news/\"+i\n",
    "    response=requests.get(url)\n",
    "    soup=BeautifulSoup(response.text,'html.parser')\n",
    "    links=soup.find_all('div',class_='an')\n",
    "    links=links[0].findAll('a')\n",
    "    for l in links:\n",
    "        hrefs.append(l.get('href'))"
   ]
  },
  {
   "cell_type": "code",
   "execution_count": 18,
   "id": "5acaad09",
   "metadata": {
    "scrolled": true
   },
   "outputs": [
    {
     "name": "stderr",
     "output_type": "stream",
     "text": [
      "100%|██████████| 3102/3102 [48:20<00:00,  1.07it/s] \n"
     ]
    }
   ],
   "source": [
    "for href in tqdm(hrefs_new[82634:int(len(hrefs_new))]):\n",
    "    time.sleep(np.random.uniform(0,1.5))\n",
    "    url='https://www.interfax.ru'+href\n",
    "    n=''\n",
    "    response=requests.get(url)\n",
    "    soup=BeautifulSoup(response.content.decode('windows-1251'),'html.parser')\n",
    "    text=soup.find_all('p')\n",
    "    header=soup.find_all('h1',itemprop='headline')\n",
    "    headers.append(header[0])\n",
    "    dates_news.append(soup.find_all('meta',itemprop='datePublished')[0].get('content'))\n",
    "    for t in text:\n",
    "        n=n+re.sub(\"</?p[^>]*>\",'',str(t))\n",
    "    news.append(n)\n"
   ]
  },
  {
   "cell_type": "code",
   "execution_count": 17,
   "id": "699dcfae",
   "metadata": {},
   "outputs": [
    {
     "data": {
      "text/plain": [
       "82633"
      ]
     },
     "execution_count": 17,
     "metadata": {},
     "output_type": "execute_result"
    }
   ],
   "source": [
    "hrefs_new.index(href)"
   ]
  },
  {
   "cell_type": "code",
   "execution_count": 19,
   "id": "efd9c36f",
   "metadata": {},
   "outputs": [],
   "source": [
    "pd.DataFrame({'dates':dates_news,'header':headers,'news':news}).to_excel('news_interfax_4.xlsx')"
   ]
  },
  {
   "cell_type": "code",
   "execution_count": 30,
   "id": "285a914b",
   "metadata": {},
   "outputs": [],
   "source": [
    "int_1=pd.read_excel('news_interfax.xlsx')"
   ]
  },
  {
   "cell_type": "code",
   "execution_count": 22,
   "id": "5e4e84aa",
   "metadata": {},
   "outputs": [],
   "source": [
    "int_2=pd.read_excel('news_interfax_2.xlsx')\n",
    "int_3=pd.read_excel('news_interfax_3.xlsx')\n",
    "int_4=pd.read_excel('news_interfax_4.xlsx')"
   ]
  },
  {
   "cell_type": "code",
   "execution_count": 31,
   "id": "f4ea8423",
   "metadata": {},
   "outputs": [
    {
     "data": {
      "text/html": [
       "<div>\n",
       "<style scoped>\n",
       "    .dataframe tbody tr th:only-of-type {\n",
       "        vertical-align: middle;\n",
       "    }\n",
       "\n",
       "    .dataframe tbody tr th {\n",
       "        vertical-align: top;\n",
       "    }\n",
       "\n",
       "    .dataframe thead th {\n",
       "        text-align: right;\n",
       "    }\n",
       "</style>\n",
       "<table border=\"1\" class=\"dataframe\">\n",
       "  <thead>\n",
       "    <tr style=\"text-align: right;\">\n",
       "      <th></th>\n",
       "      <th>Unnamed: 0</th>\n",
       "      <th>dates</th>\n",
       "      <th>header</th>\n",
       "      <th>news</th>\n",
       "    </tr>\n",
       "  </thead>\n",
       "  <tbody>\n",
       "    <tr>\n",
       "      <th>0</th>\n",
       "      <td>0</td>\n",
       "      <td>2013-01-01T16:44:00</td>\n",
       "      <td>&lt;h1 itemprop=\"headline\"&gt;В РФ с 2013-го минимал...</td>\n",
       "      <td>Москва. 1 января. INTERFAX.RU - Минимальная ро...</td>\n",
       "    </tr>\n",
       "    <tr>\n",
       "      <th>1</th>\n",
       "      <td>1</td>\n",
       "      <td>2013-01-01T14:54:00</td>\n",
       "      <td>&lt;h1 itemprop=\"headline\"&gt;В России заработал отк...</td>\n",
       "      <td>Москва. 1 января. INTERFAX.RU – В России с 1 я...</td>\n",
       "    </tr>\n",
       "    <tr>\n",
       "      <th>2</th>\n",
       "      <td>2</td>\n",
       "      <td>2013-01-01T12:03:00</td>\n",
       "      <td>&lt;h1 itemprop=\"headline\"&gt;Снижение цены на росси...</td>\n",
       "      <td>Москва. 1 января. INTERFAX.RU - Россия не буде...</td>\n",
       "    </tr>\n",
       "    <tr>\n",
       "      <th>3</th>\n",
       "      <td>3</td>\n",
       "      <td>2013-01-02T11:04:00</td>\n",
       "      <td>&lt;h1 itemprop=\"headline\"&gt;Добыча газа в России в...</td>\n",
       "      <td>Москва. 2 января. INTERFAX.RU - Объем добычи г...</td>\n",
       "    </tr>\n",
       "    <tr>\n",
       "      <th>4</th>\n",
       "      <td>4</td>\n",
       "      <td>2013-01-02T09:00:00</td>\n",
       "      <td>&lt;h1 itemprop=\"headline\"&gt;Закон, предотвращающий...</td>\n",
       "      <td>Лондон. 2 января. INTERFAX.RU - Палата предста...</td>\n",
       "    </tr>\n",
       "    <tr>\n",
       "      <th>...</th>\n",
       "      <td>...</td>\n",
       "      <td>...</td>\n",
       "      <td>...</td>\n",
       "      <td>...</td>\n",
       "    </tr>\n",
       "    <tr>\n",
       "      <th>85730</th>\n",
       "      <td>21428</td>\n",
       "      <td>2022-04-11T08:37:00</td>\n",
       "      <td>&lt;h1 itemprop=\"headline\"&gt;Нефть подешевела более...</td>\n",
       "      <td>Москва. 11 апреля. INTERFAX.RU - Нефтяные коти...</td>\n",
       "    </tr>\n",
       "    <tr>\n",
       "      <th>85731</th>\n",
       "      <td>21429</td>\n",
       "      <td>2022-04-11T07:06:00</td>\n",
       "      <td>&lt;h1 itemprop=\"headline\"&gt;\"Ъ\" сообщил о просьбе ...</td>\n",
       "      <td>Москва. 11 апреля. INTERFAX.RU -  Глава \"НОВАТ...</td>\n",
       "    </tr>\n",
       "    <tr>\n",
       "      <th>85732</th>\n",
       "      <td>21430</td>\n",
       "      <td>2022-04-11T03:36:00</td>\n",
       "      <td>&lt;h1 itemprop=\"headline\"&gt;Белорусский министр на...</td>\n",
       "      <td>Москва. 11 апреля. INTERFAX.RU - Министр эконо...</td>\n",
       "    </tr>\n",
       "    <tr>\n",
       "      <th>85733</th>\n",
       "      <td>21431</td>\n",
       "      <td>2022-04-11T00:35:00</td>\n",
       "      <td>&lt;h1 itemprop=\"headline\"&gt;Силуанов заявил, что М...</td>\n",
       "      <td>Москва. 11 апреля. INTERFAX.RU - Министерство ...</td>\n",
       "    </tr>\n",
       "    <tr>\n",
       "      <th>85734</th>\n",
       "      <td>21432</td>\n",
       "      <td>2022-04-11T00:12:00</td>\n",
       "      <td>&lt;h1 itemprop=\"headline\"&gt;Сбербанк снизил ставки...</td>\n",
       "      <td>Москва. 11 апреля. INTERFAX.RU - Сбербанк всле...</td>\n",
       "    </tr>\n",
       "  </tbody>\n",
       "</table>\n",
       "<p>85735 rows × 4 columns</p>\n",
       "</div>"
      ],
      "text/plain": [
       "       Unnamed: 0                dates  \\\n",
       "0               0  2013-01-01T16:44:00   \n",
       "1               1  2013-01-01T14:54:00   \n",
       "2               2  2013-01-01T12:03:00   \n",
       "3               3  2013-01-02T11:04:00   \n",
       "4               4  2013-01-02T09:00:00   \n",
       "...           ...                  ...   \n",
       "85730       21428  2022-04-11T08:37:00   \n",
       "85731       21429  2022-04-11T07:06:00   \n",
       "85732       21430  2022-04-11T03:36:00   \n",
       "85733       21431  2022-04-11T00:35:00   \n",
       "85734       21432  2022-04-11T00:12:00   \n",
       "\n",
       "                                                  header  \\\n",
       "0      <h1 itemprop=\"headline\">В РФ с 2013-го минимал...   \n",
       "1      <h1 itemprop=\"headline\">В России заработал отк...   \n",
       "2      <h1 itemprop=\"headline\">Снижение цены на росси...   \n",
       "3      <h1 itemprop=\"headline\">Добыча газа в России в...   \n",
       "4      <h1 itemprop=\"headline\">Закон, предотвращающий...   \n",
       "...                                                  ...   \n",
       "85730  <h1 itemprop=\"headline\">Нефть подешевела более...   \n",
       "85731  <h1 itemprop=\"headline\">\"Ъ\" сообщил о просьбе ...   \n",
       "85732  <h1 itemprop=\"headline\">Белорусский министр на...   \n",
       "85733  <h1 itemprop=\"headline\">Силуанов заявил, что М...   \n",
       "85734  <h1 itemprop=\"headline\">Сбербанк снизил ставки...   \n",
       "\n",
       "                                                    news  \n",
       "0      Москва. 1 января. INTERFAX.RU - Минимальная ро...  \n",
       "1      Москва. 1 января. INTERFAX.RU – В России с 1 я...  \n",
       "2      Москва. 1 января. INTERFAX.RU - Россия не буде...  \n",
       "3      Москва. 2 января. INTERFAX.RU - Объем добычи г...  \n",
       "4      Лондон. 2 января. INTERFAX.RU - Палата предста...  \n",
       "...                                                  ...  \n",
       "85730  Москва. 11 апреля. INTERFAX.RU - Нефтяные коти...  \n",
       "85731  Москва. 11 апреля. INTERFAX.RU -  Глава \"НОВАТ...  \n",
       "85732  Москва. 11 апреля. INTERFAX.RU - Министр эконо...  \n",
       "85733  Москва. 11 апреля. INTERFAX.RU - Министерство ...  \n",
       "85734  Москва. 11 апреля. INTERFAX.RU - Сбербанк всле...  \n",
       "\n",
       "[85735 rows x 4 columns]"
      ]
     },
     "execution_count": 31,
     "metadata": {},
     "output_type": "execute_result"
    }
   ],
   "source": [
    "pd.concat([int_1,int_2,int_3,int_4],axis=0,ignore_index=True)"
   ]
  },
  {
   "cell_type": "code",
   "execution_count": 1,
   "id": "c4dcd024",
   "metadata": {},
   "outputs": [
    {
     "ename": "NameError",
     "evalue": "name 'int_1' is not defined",
     "output_type": "error",
     "traceback": [
      "\u001b[1;31m---------------------------------------------------------------------------\u001b[0m",
      "\u001b[1;31mNameError\u001b[0m                                 Traceback (most recent call last)",
      "\u001b[1;32mC:\\Users\\SHEMYA~1\\AppData\\Local\\Temp/ipykernel_1636/3400986357.py\u001b[0m in \u001b[0;36m<module>\u001b[1;34m\u001b[0m\n\u001b[1;32m----> 1\u001b[1;33m \u001b[0mint_1\u001b[0m\u001b[1;33m[\u001b[0m\u001b[1;34m'header'\u001b[0m\u001b[1;33m]\u001b[0m\u001b[1;33m.\u001b[0m\u001b[0mapply\u001b[0m\u001b[1;33m(\u001b[0m\u001b[0mre\u001b[0m\u001b[1;33m.\u001b[0m\u001b[0mfind_all\u001b[0m\u001b[1;33m(\u001b[0m\u001b[1;34m\"</?p[^>]*>\"\u001b[0m\u001b[1;33m,\u001b[0m\u001b[1;34m''\u001b[0m\u001b[1;33m,\u001b[0m\u001b[0mstr\u001b[0m\u001b[1;33m(\u001b[0m\u001b[1;33m)\u001b[0m\u001b[1;33m)\u001b[0m\u001b[1;33m)\u001b[0m\u001b[1;33m\u001b[0m\u001b[1;33m\u001b[0m\u001b[0m\n\u001b[0m",
      "\u001b[1;31mNameError\u001b[0m: name 'int_1' is not defined"
     ]
    }
   ],
   "source": [
    "int_1['header'].apply(re.find_all(\"</?p[^>]*>\",'',str()))"
   ]
  },
  {
   "cell_type": "code",
   "execution_count": null,
   "id": "fac34268",
   "metadata": {},
   "outputs": [],
   "source": []
  }
 ],
 "metadata": {
  "kernelspec": {
   "display_name": "Python 3 (ipykernel)",
   "language": "python",
   "name": "python3"
  },
  "language_info": {
   "codemirror_mode": {
    "name": "ipython",
    "version": 3
   },
   "file_extension": ".py",
   "mimetype": "text/x-python",
   "name": "python",
   "nbconvert_exporter": "python",
   "pygments_lexer": "ipython3",
   "version": "3.9.7"
  }
 },
 "nbformat": 4,
 "nbformat_minor": 5
}
